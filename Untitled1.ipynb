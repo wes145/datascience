{
  "nbformat": 4,
  "nbformat_minor": 0,
  "metadata": {
    "colab": {
      "provenance": [],
      "history_visible": true,
      "gpuType": "T4"
    },
    "kernelspec": {
      "name": "python3",
      "display_name": "Python 3"
    },
    "language_info": {
      "name": "python"
    },
    "accelerator": "GPU"
  },
  "cells": [
    {
      "cell_type": "code",
      "execution_count": null,
      "metadata": {
        "colab": {
          "base_uri": "https://localhost:8080/"
        },
        "id": "Jw2UlOe8DJtn",
        "outputId": "4f2cc3a9-d588-4e5f-cf0f-a4d4898fa7db"
      },
      "outputs": [
        {
          "output_type": "stream",
          "name": "stderr",
          "text": [
            "[nltk_data] Downloading package punkt to /root/nltk_data...\n",
            "[nltk_data]   Unzipping tokenizers/punkt.zip.\n"
          ]
        }
      ],
      "source": [
        "import pandas as pd\n",
        "import base64\n",
        "from sklearn.feature_extraction.text import CountVectorizer\n",
        "from sklearn.model_selection import train_test_split\n",
        "from sklearn.metrics import mean_squared_error\n",
        "from nltk.stem import PorterStemmer\n",
        "from nltk.tokenize import word_tokenize\n",
        "import nltk\n",
        "from sklearn.ensemble import RandomForestRegressor\n",
        "# Load the train.csv file\n",
        "train_df = pd.read_csv(r\"/content/train.csv\")\n",
        "stemmer = PorterStemmer()\n",
        "nltk.download('punkt')\n",
        "# Decode the Base64 encoded sentences\n",
        "def stem_sentence(sentence):\n",
        "    token_words = word_tokenize(sentence)\n",
        "    stem_sentence = []\n",
        "    for word in token_words:\n",
        "        stem_sentence.append(stemmer.stem(word))\n",
        "        stem_sentence.append(\" \")\n",
        "    return \"\".join(stem_sentence)\n",
        "\n",
        "\n",
        "def decode_base64(data):\n",
        "    try:\n",
        "        return base64.b64decode(data).decode('utf-8')\n",
        "    except Exception:\n",
        "        return None\n",
        "\n",
        "train_df['decoded_sentence'] = train_df['sentence'].apply(decode_base64)\n",
        "\n",
        "# Remove rows where decoding failed\n",
        "train_df = train_df[train_df['decoded_sentence'].notna()]\n",
        "train_df['stemmed_sentence'] = train_df['decoded_sentence'].apply(stem_sentence)\n",
        "\n",
        "# Tokenize and vectorize the sentences\n",
        "vectorizer = CountVectorizer()\n",
        "X = vectorizer.fit_transform(train_df['stemmed_sentence'])\n",
        "\n",
        "# Split the data into training and validation sets\n"
      ]
    },
    {
      "cell_type": "code",
      "source": [
        "import torch\n",
        "import torch.nn as nn\n",
        "import torch.optim as optim\n",
        "import numpy as np\n",
        "class DecisionTreeRegressorPyTorch(nn.Module):\n",
        "    def __init__(self, max_depth=None):\n",
        "        super(DecisionTreeRegressorPyTorch, self).__init__()\n",
        "        self.max_depth = max_depth\n",
        "        self.tree = nn.Sequential(\n",
        "            nn.Linear(1, 100),\n",
        "            nn.ReLU(),\n",
        "            nn.Linear(100, 100),\n",
        "            nn.ReLU(),\n",
        "            nn.Linear(100, 1)\n",
        "        )\n",
        "\n",
        "    def forward(self, x):\n",
        "        return self.tree(x)\n"
      ],
      "metadata": {
        "id": "TaHd5nW_Kvam"
      },
      "execution_count": null,
      "outputs": []
    },
    {
      "source": [
        "X_train, X_val, y_train, y_val = train_test_split(X, train_df['temperature'], test_size=0.2, random_state=42)\n",
        "\n",
        "\n",
        "model=RandomForestRegressor(n_jobs=-1,n_estimators=10)\n",
        "model.fit(X_train, y_train)\n",
        "y_val_pred = model.predict(X_val)\n",
        "\n",
        "# Compute the Mean Squared Error\n",
        "mse = mean_squared_error(y_val, y_val_pred)\n",
        "\n",
        "print(f'Mean Squared Error on validation set: {mse}')\n",
        "# Load the test.csv file\n",
        "\n",
        "\n",
        "test_df = pd.read_csv(r\"/content/test.csv\")\n",
        "\n",
        "# Decode the Base64 encoded sentences in the test.csv file\n",
        "test_df['decoded_sentence'] = test_df['sentence'].apply(decode_base64)\n",
        "\n",
        "# Remove rows where decoding failed\n",
        "test_df = test_df[test_df['decoded_sentence'].notna()]\n",
        "test_df['stemmed_sentence'] = test_df['decoded_sentence'].apply(stem_sentence)\n",
        "# Vectorize the test sentences\n",
        "X_test = vectorizer.transform(test_df['stemmed_sentence'])\n",
        "\n",
        "# Predict the temperatures for the test data\n",
        "test_df['temperature'] = model.predict(X_test)\n",
        "\n",
        "# Replace the '-1' placeholders in the submission.csv file with the predicted temperatures\n",
        "submission_df = pd.read_csv(r\"/content/submission.csv\")\n",
        "submission_df['temperature'] = test_df['temperature']\n",
        "\n",
        "# Save the submission.csv file\n",
        "submission_df.to_csv('newestsubmission.csv', index=False)\n"
      ],
      "cell_type": "code",
      "metadata": {
        "colab": {
          "base_uri": "https://localhost:8080/",
          "height": 228
        },
        "id": "juMXWEeoTiB-",
        "outputId": "f1657265-72d6-4d64-dbcc-d2f8fcf5c8e4"
      },
      "execution_count": null,
      "outputs": [
        {
          "output_type": "error",
          "ename": "NameError",
          "evalue": "name 'train_test_split' is not defined",
          "traceback": [
            "\u001b[0;31m---------------------------------------------------------------------------\u001b[0m",
            "\u001b[0;31mNameError\u001b[0m                                 Traceback (most recent call last)",
            "\u001b[0;32m<ipython-input-1-87cb082104f2>\u001b[0m in \u001b[0;36m<cell line: 1>\u001b[0;34m()\u001b[0m\n\u001b[0;32m----> 1\u001b[0;31m \u001b[0mX_train\u001b[0m\u001b[0;34m,\u001b[0m \u001b[0mX_val\u001b[0m\u001b[0;34m,\u001b[0m \u001b[0my_train\u001b[0m\u001b[0;34m,\u001b[0m \u001b[0my_val\u001b[0m \u001b[0;34m=\u001b[0m \u001b[0mtrain_test_split\u001b[0m\u001b[0;34m(\u001b[0m\u001b[0mX\u001b[0m\u001b[0;34m,\u001b[0m \u001b[0mtrain_df\u001b[0m\u001b[0;34m[\u001b[0m\u001b[0;34m'temperature'\u001b[0m\u001b[0;34m]\u001b[0m\u001b[0;34m,\u001b[0m \u001b[0mtest_size\u001b[0m\u001b[0;34m=\u001b[0m\u001b[0;36m0.2\u001b[0m\u001b[0;34m,\u001b[0m \u001b[0mrandom_state\u001b[0m\u001b[0;34m=\u001b[0m\u001b[0;36m42\u001b[0m\u001b[0;34m)\u001b[0m\u001b[0;34m\u001b[0m\u001b[0;34m\u001b[0m\u001b[0m\n\u001b[0m\u001b[1;32m      2\u001b[0m \u001b[0;34m\u001b[0m\u001b[0m\n\u001b[1;32m      3\u001b[0m \u001b[0;34m\u001b[0m\u001b[0m\n\u001b[1;32m      4\u001b[0m \u001b[0mmodel\u001b[0m\u001b[0;34m=\u001b[0m\u001b[0mRandomForestRegressor\u001b[0m\u001b[0;34m(\u001b[0m\u001b[0mn_jobs\u001b[0m\u001b[0;34m=\u001b[0m\u001b[0;34m-\u001b[0m\u001b[0;36m1\u001b[0m\u001b[0;34m,\u001b[0m\u001b[0mn_estimators\u001b[0m\u001b[0;34m=\u001b[0m\u001b[0;36m10\u001b[0m\u001b[0;34m)\u001b[0m\u001b[0;34m\u001b[0m\u001b[0;34m\u001b[0m\u001b[0m\n\u001b[1;32m      5\u001b[0m \u001b[0mmodel\u001b[0m\u001b[0;34m.\u001b[0m\u001b[0mfit\u001b[0m\u001b[0;34m(\u001b[0m\u001b[0mX_train\u001b[0m\u001b[0;34m,\u001b[0m \u001b[0my_train\u001b[0m\u001b[0;34m)\u001b[0m\u001b[0;34m\u001b[0m\u001b[0;34m\u001b[0m\u001b[0m\n",
            "\u001b[0;31mNameError\u001b[0m: name 'train_test_split' is not defined"
          ]
        }
      ]
    },
    {
      "cell_type": "code",
      "source": [],
      "metadata": {
        "colab": {
          "base_uri": "https://localhost:8080/",
          "height": 124
        },
        "id": "9E9crKah_U8q",
        "outputId": "763f808a-e33f-44a2-ed3e-b0cc6af24556"
      },
      "execution_count": null,
      "outputs": [
        {
          "output_type": "error",
          "ename": "SyntaxError",
          "evalue": "invalid non-printable character U+00A0 (<ipython-input-6-2d0baaac4cbb>, line 24)",
          "traceback": [
            "\u001b[0;36m  File \u001b[0;32m\"<ipython-input-6-2d0baaac4cbb>\"\u001b[0;36m, line \u001b[0;32m24\u001b[0m\n\u001b[0;31m    embedding_matrix = np.zeros((len(word_index) + 1, 100))  # Assuming GloVe vectors are 100-dimensional\u001b[0m\n\u001b[0m                                                            ^\u001b[0m\n\u001b[0;31mSyntaxError\u001b[0m\u001b[0;31m:\u001b[0m invalid non-printable character U+00A0\n"
          ]
        }
      ]
    },
    {
      "cell_type": "code",
      "source": [],
      "metadata": {
        "id": "EmPyBYn6H0ai"
      },
      "execution_count": null,
      "outputs": []
    }
  ]
}